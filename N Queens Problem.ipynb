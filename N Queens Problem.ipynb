{
 "cells": [
  {
   "cell_type": "markdown",
   "metadata": {},
   "source": [
    "# **N Queens using genetic Algo**"
   ]
  },
  {
   "cell_type": "code",
   "execution_count": 36,
   "metadata": {},
   "outputs": [],
   "source": [
    "import random\n",
    "n=5"
   ]
  },
  {
   "cell_type": "code",
   "execution_count": 37,
   "metadata": {},
   "outputs": [],
   "source": [
    "def generatePopulation(): \n",
    "    population=[]\n",
    "    for _ in range(4): \n",
    "        pop1=[] \n",
    "        for _ in range(n):\n",
    "            pop1.append(random.randint(0,n-1)) \n",
    "        population.append(pop1)\n",
    "    return population"
   ]
  },
  {
   "cell_type": "code",
   "execution_count": 38,
   "metadata": {},
   "outputs": [],
   "source": [
    "def crossover(parent1,parent2,):\n",
    "    crossover_point=random.randint(0,n-1) \n",
    "    child1=parent1[:crossover_point]+parent2[crossover_point:]\n",
    "    child2=parent2[:crossover_point]+parent1[crossover_point:] \n",
    "    return child1,child2"
   ]
  },
  {
   "cell_type": "code",
   "execution_count": 45,
   "metadata": {},
   "outputs": [],
   "source": [
    "def mutation(parent): \n",
    "    mutation_point=random.randint(0,n-1)\n",
    "    newbit=random.randint(0,n-1)\n",
    "    parent[mutation_point]=newbit \n",
    "    return parent\n"
   ]
  },
  {
   "cell_type": "code",
   "execution_count": 46,
   "metadata": {},
   "outputs": [],
   "source": [
    "def print_chromosome(chromosome): \n",
    "    grid=[]\n",
    "    for i in range(n): \n",
    "        row=[]\n",
    "        for j in range(n):\n",
    "            if chromosome[j]!=i:\n",
    "                row.append(0)\n",
    "            else:\n",
    "                row.append(1)\n",
    "        grid.append(row)   \n",
    "    for row in grid:\n",
    "        print(row)  \n",
    "            "
   ]
  },
  {
   "cell_type": "code",
   "execution_count": 47,
   "metadata": {},
   "outputs": [],
   "source": [
    "def generateGrid(chromosome):\n",
    "    grid=[]\n",
    "    for _ in range(n):\n",
    "        temp=[0]*n\n",
    "        grid.append(temp) \n",
    "\n",
    "    for i in range(n):\n",
    "        grid[chromosome[i]-1][i]=1\n",
    "    return grid\n",
    "    \n",
    "def checkDiagonalUp(Grid,corrdinates):\n",
    "    count=0\n",
    "    i,j=corrdinates[0],corrdinates[1]\n",
    "    while i>0 and j<n-1:\n",
    "        i=i-1\n",
    "        j=j+1\n",
    "        if Grid[i][j]==1:\n",
    "            count=count+1\n",
    "    return count\n",
    "\n",
    "def checkDiagonalDown(Grid,corrdinates):\n",
    "    count=0\n",
    "    i,j=corrdinates[0],corrdinates[1] \n",
    "    while i<n-1 and j<n-1:\n",
    "        i=i+1\n",
    "        j=j+1 \n",
    "        if Grid[i][j]==1:\n",
    "            count=count+1\n",
    "    return count\n",
    "\n",
    "def fitness(chromosome):\n",
    "    fitnessvalues=[0]*n \n",
    "    Grid=generateGrid(chromosome)\n",
    "    j=0\n",
    "    for i in range(n):\n",
    "        j=j+1\n",
    "        if chromosome[i] in chromosome[j:]:#checking horizontally\n",
    "            fitnessvalues[i]+=1 \n",
    "        fitnessvalues[i]+=checkDiagonalUp(Grid,(chromosome[i]-1,i))\n",
    "        fitnessvalues[i]+=checkDiagonalDown(Grid,(chromosome[i]-1,i))\n",
    "        fitnessvalues[i]=n-i-1-fitnessvalues[i]#for non attacking queens\n",
    "    return sum(fitnessvalues)\n"
   ]
  },
  {
   "cell_type": "code",
   "execution_count": 48,
   "metadata": {},
   "outputs": [],
   "source": [
    "def Probabilities(Population):\n",
    "    Total=0 \n",
    "    Probs=[]\n",
    "    for chromosome in Population:\n",
    "        Probs.append([fitness(chromosome),chromosome])  \n",
    "        if fitness(chromosome)==(n*(n-1))//2:\n",
    "            return [chromosome]\n",
    "        Total+=fitness(chromosome)\n",
    "    return [(format((x[0]/Total)*100,'.3f'),x[1]) for x in Probs]  \n",
    "\n",
    "def Selection(Population):\n",
    "    sort=sorted(Population) \n",
    "    sort.reverse()\n",
    "    return [i[1] for i in sort[:2]],[i[1] for i in sort[2:]]"
   ]
  },
  {
   "cell_type": "code",
   "execution_count": 50,
   "metadata": {},
   "outputs": [
    {
     "name": "stdout",
     "output_type": "stream",
     "text": [
      "[4, 2, 0, 3, 1]\n"
     ]
    }
   ],
   "source": [
    "Population=generatePopulation()\n",
    "Prob=Probabilities(Population) \n",
    "if len(Prob)==1:\n",
    "    print(Prob)\n",
    "while 1:\n",
    "    set1,set2=Selection(Prob) \n",
    "    children=[]\n",
    "    child1,child2=crossover(set1[0],set1[1]) \n",
    "    children.append(child1)\n",
    "    children.append(child2)\n",
    "    child1,child2=crossover(set2[0],set2[1]) \n",
    "    children.append(child1)\n",
    "    children.append(child2)\n",
    "    Population.clear()\n",
    "    for child in children:\n",
    "        ch=mutation(child)\n",
    "        Population.append(ch)\n",
    "    Prob=Probabilities(Population)  \n",
    "    if len(Prob)==1:\n",
    "        print(Prob[0])\n",
    "        break"
   ]
  }
 ],
 "metadata": {
  "kernelspec": {
   "display_name": "Python 3",
   "language": "python",
   "name": "python3"
  },
  "language_info": {
   "codemirror_mode": {
    "name": "ipython",
    "version": 3
   },
   "file_extension": ".py",
   "mimetype": "text/x-python",
   "name": "python",
   "nbconvert_exporter": "python",
   "pygments_lexer": "ipython3",
   "version": "3.11.5"
  }
 },
 "nbformat": 4,
 "nbformat_minor": 2
}
